{
 "cells": [
  {
   "cell_type": "markdown",
   "metadata": {},
   "source": [
    "<font color='orange'>Ejercicio 1 Función Acumulada Ponderada</font>"
   ]
  },
  {
   "cell_type": "code",
   "execution_count": null,
   "metadata": {},
   "outputs": [],
   "source": []
  },
  {
   "cell_type": "markdown",
   "metadata": {},
   "source": [
    "<font color='orange'>Ejercicio 2 Función Acumulada Ponderada(Programa)</font>"
   ]
  },
  {
   "cell_type": "code",
   "execution_count": null,
   "metadata": {},
   "outputs": [],
   "source": []
  },
  {
   "cell_type": "markdown",
   "metadata": {},
   "source": [
    "<font color='orange'>Ejercicio 3 Valor Presente Neto</font>"
   ]
  },
  {
   "cell_type": "code",
   "execution_count": 28,
   "metadata": {},
   "outputs": [
    {
     "name": "stdout",
     "output_type": "stream",
     "text": [
      "vpn proyecto hotel: 986.0509162351091 con 100 corridas\n",
      "vpn centro comercial: 1425.4973000083107 con 100 corridas \n",
      "\n",
      "vpn proyecto hotel: 966.3365648008667 con 1000 corridas\n",
      "vpn centro comercial: 1377.1456262369556 con 1000 corridas \n",
      "\n",
      "vpn proyecto hotel: 966.038609027356 con 10000 corridas\n",
      "vpn centro comercial: 1351.4089468637794 con 10000 corridas \n",
      "\n"
     ]
    }
   ],
   "source": [
    "import numpy as np\n",
    "#Proyecto hotel\n",
    "def proyecto_hotel(runs):\n",
    "    t0 = -800\n",
    "    t1 = np.random.normal(-800, 50, runs)\n",
    "    t1 = t1.sum()\n",
    "    t2 = np.random.normal(-800, 100, runs)\n",
    "    t2 = t2.sum()\n",
    "    t3 = np.random.normal(-700, 150, runs)\n",
    "    t3 = t3.sum()\n",
    "    t4 = np.random.normal(300, 200, runs)\n",
    "    t4 = t4.sum()\n",
    "    t5 = np.random.normal(400, 200, runs)\n",
    "    t5 = t5.sum()\n",
    "    t6 = np.random.normal(500, 200, runs)\n",
    "    t6 = t6.sum()\n",
    "    t7 = np.random.uniform(200, 8440, runs)\n",
    "    t7 = t7.sum()\n",
    "    vpn = t0 + (t1/1 + 0.1) + (t2/(1 + 0.1)**2) + (t3/(1 + 0.1)**3) + (t4/(1 + 0.1)**4) + (t5/(1 + 0.1)**5) + (t6/(1 + 0.1)**6) + (t7/(1 + 0.1)**7)\n",
    "    vpn = vpn/runs\n",
    "    print(\"vpn proyecto hotel: {0} con {1} corridas\".format(vpn, runs))\n",
    "    #return vpn\n",
    "\n",
    "def proyecto_centro_comercial(runs):\n",
    "    t0 = -900\n",
    "    t1 = np.random.normal(-600, 50, runs)\n",
    "    t1 = t1.sum()\n",
    "    t2 = np.random.normal(-200, 50, runs)\n",
    "    t2 = t2.sum()\n",
    "    t3 = np.random.normal(-600, 100, runs)\n",
    "    t3 = t3.sum()\n",
    "    t4 = np.random.normal(250, 150, runs)\n",
    "    t4 = t4.sum()\n",
    "    t5 = np.random.normal(350, 150, runs)\n",
    "    t5 = t5.sum()\n",
    "    t6 = np.random.normal(400, 150, runs)\n",
    "    t6 = t6.sum()\n",
    "    t7 = np.random.uniform(1600, 6000, runs)\n",
    "    t7 = t7.sum()\n",
    "    vpn2 = t0 + (t1/1 + 0.1) + (t2/(1 + 0.1)**2) + (t3/(1 + 0.1)**3) + (t4/(1 + 0.1)**4) + (t5/(1 + 0.1)**5) + (t6/(1 + 0.1)**6) + (t7/(1 + 0.1)**7)\n",
    "    vpn2 = vpn2/runs\n",
    "    print(\"vpn centro comercial: {0} con {1} corridas \\n\".format(vpn2, runs))\n",
    "    #return vpn2 \n",
    "\n",
    "\n",
    "proyecto_hotel(100)\n",
    "proyecto_centro_comercial(100)\n",
    "proyecto_hotel(1000)\n",
    "proyecto_centro_comercial(1000)\n",
    "proyecto_hotel(10000)\n",
    "proyecto_centro_comercial(10000)\n"
   ]
  },
  {
   "cell_type": "markdown",
   "metadata": {},
   "source": [
    "<font color='orange'>Ejercicio 4 Repartidor de Periodicos</font>"
   ]
  },
  {
   "cell_type": "code",
   "execution_count": null,
   "metadata": {},
   "outputs": [],
   "source": []
  }
 ],
 "metadata": {
  "kernelspec": {
   "display_name": "Python 3",
   "language": "python",
   "name": "python3"
  },
  "language_info": {
   "codemirror_mode": {
    "name": "ipython",
    "version": 3
   },
   "file_extension": ".py",
   "mimetype": "text/x-python",
   "name": "python",
   "nbconvert_exporter": "python",
   "pygments_lexer": "ipython3",
   "version": "3.7.1"
  }
 },
 "nbformat": 4,
 "nbformat_minor": 2
}
