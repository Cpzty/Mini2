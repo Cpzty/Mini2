{
 "cells": [
  {
   "cell_type": "markdown",
   "metadata": {},
   "source": [
    "<font color='orange'>Ejercicio 1 Función Acumulada Ponderada</font>"
   ]
  },
  {
   "cell_type": "markdown",
   "metadata": {},
   "source": [
    "Cada tramo o área de la variable aleatoria puede ser representada por la inversa de F(x), se debe tomar en cuenta que la integral se realiza supongamos el primer tramo de -inf a x para el segundo tramo se le suma el primero solo que la integral sería de -inf a la totalidad del primer tramo + la integral del segundo tramo del final del primer tramo hacia x. Ya la parte relevante es el generador o la inversa multiplicado por un pi"
   ]
  },
  {
   "cell_type": "markdown",
   "metadata": {},
   "source": [
    "<font color='orange'>Ejercicio 2 Función Acumulada Ponderada(Programa)</font>"
   ]
  },
  {
   "cell_type": "code",
   "execution_count": 1,
   "metadata": {},
   "outputs": [],
   "source": [
    "from random import random\n",
    "from math import sqrt, log\n",
    "import matplotlib.pyplot as plt\n",
    "from numpy import std"
   ]
  },
  {
   "cell_type": "code",
   "execution_count": 9,
   "metadata": {},
   "outputs": [
    {
     "name": "stdout",
     "output_type": "stream",
     "text": [
      "the variance is: 0.38942682255210015 in 100 runs\n",
      "the variance is: 1.0405999286449437 in 1000 runs\n",
      "the variance is: 1.014661857720456 in 10000 runs\n"
     ]
    },
    {
     "data": {
      "image/png": "[encoded data removed]",
      "text/plain": [
       "<Figure size 432x288 with 1 Axes>"
      ]
     },
     "metadata": {
      "needs_background": "light"
     },
     "output_type": "display_data"
    }
   ],
   "source": [
    "#F(x) = 1 - e ^ -x lambda = 1 X = ln(1 - random())\n",
    "def exponencial(runs):\n",
    "    records = [] \n",
    "    for i in range(runs):\n",
    "        X = log(1 - random())\n",
    "        records.append(X)\n",
    "    plt.hist(records)\n",
    "    dev = std(records)\n",
    "    variance_records = dev ** 2\n",
    "    print(\"the variance is: {0} in {1} runs\".format(variance_records,runs))\n",
    "\n",
    "exponencial(100)\n",
    "exponencial(1000)\n",
    "exponencial(10000)\n"
   ]
  },
  {
   "cell_type": "markdown",
   "metadata": {},
   "source": [
    "<font color='orange'>Ejercicio 3 Valor Presente Neto</font>"
   ]
  },
  {
   "cell_type": "code",
   "execution_count": 1,
   "metadata": {},
   "outputs": [],
   "source": [
    "#uniform\n",
    "from random import uniform, random\n",
    "#e\n",
    "from math import e, log\n"
   ]
  },
  {
   "cell_type": "code",
   "execution_count": 7,
   "metadata": {},
   "outputs": [
    {
     "name": "stdout",
     "output_type": "stream",
     "text": [
      "vpn proyecto hotel: 244.47001699316522 con 100 corridas\n",
      "vpn centro comercial: 9.984756687437198 con 100 corridas \n",
      "\n",
      "vpn proyecto hotel: 183.71953497327115 con 1000 corridas\n",
      "vpn centro comercial: 1.22841893144062 con 1000 corridas \n",
      "\n",
      "vpn proyecto hotel: 169.42741227644464 con 10000 corridas\n",
      "vpn centro comercial: -0.04214052776214551 con 10000 corridas \n",
      "\n",
      "vpn proyecto hotel: 168.25625433987506 con 100000 corridas\n",
      "vpn centro comercial: -0.002779834717608194 con 100000 corridas \n",
      "\n"
     ]
    }
   ],
   "source": [
    "def xlambda(lamda):\n",
    "    X = -(1/lamda) * log(uniform(0,1))\n",
    "    return X\n",
    "    \n",
    "\n",
    "def uniform_rand(mini,maxim):\n",
    "    rango = maxim - mini\n",
    "    eleccion = uniform(0,1)\n",
    "    return mini + rango * eleccion\n",
    "\n",
    "def normal_rand(mu, sigma):\n",
    "    while True:\n",
    "        y1 = xlambda(1)\n",
    "        y2 = xlambda(1)\n",
    "        if y2 - ((y1-1)**2)/2 > 0:\n",
    "            y = y2 - ((y1-1)**2)/2\n",
    "            U = uniform(0,1)\n",
    "            if U <= 0.5:\n",
    "                return mu + (sigma * y)\n",
    "            else:\n",
    "                return mu - (sigma * y)\n",
    "\n",
    "#Proyecto hotel\n",
    "def proyecto_hotel(runs):\n",
    "    vpn = 0\n",
    "    for i in range(runs):\n",
    "        t0 = -800\n",
    "        t1 = normal_rand(-800, 50)\n",
    "        t2 = normal_rand(-800, 100)\n",
    "        t3 = normal_rand(-700, 150)\n",
    "        t4 = normal_rand(300, 200)\n",
    "        t5 = normal_rand(400, 200)\n",
    "        t6 = normal_rand(500, 200)\n",
    "        t7 = uniform_rand(200, 8440)\n",
    "        vpn = vpn + t0 + (t1/1 + 0.1) + (t2/(1 + 0.1)**2) + (t3/(1 + 0.1)**3) + (t4/(1 + 0.1)**4) + (t5/(1 + 0.1)**5) + (t6/(1 + 0.1)**6) + (t7/(1 + 0.1)**7)\n",
    "    vpn = vpn/runs\n",
    "    print(\"vpn proyecto hotel: {0} con {1} corridas\".format(vpn, runs))\n",
    "    #return vpn\n",
    "\n",
    "def proyecto_centro_comercial(runs):\n",
    "    vpn = 0\n",
    "    for i in range(runs):\n",
    "        t0 = -900\n",
    "        t1 = normal_rand(-600, 50)\n",
    "        t2 = normal_rand(-200, 50)\n",
    "        t3 = normal_rand(-600, 100)\n",
    "        t4 = normal_rand(250, 150)\n",
    "        t5 = normal_rand(350, 150)\n",
    "        t6 = normal_rand(400, 150)\n",
    "        t7 = uniform_rand(1600, 6000)\n",
    "        vpn2 = t0 + (t1/1 + 0.1) + (t2/(1 + 0.1)**2) + (t3/(1 + 0.1)**3) + (t4/(1 + 0.1)**4) + (t5/(1 + 0.1)**5) + (t6/(1 + 0.1)**6) + (t7/(1 + 0.1)**7)\n",
    "    vpn2 = vpn2/runs\n",
    "    print(\"vpn centro comercial: {0} con {1} corridas \\n\".format(vpn2, runs))\n",
    "    #return vpn2 \n",
    "\n",
    "\n",
    "proyecto_hotel(100)\n",
    "proyecto_centro_comercial(100)\n",
    "proyecto_hotel(1000)\n",
    "proyecto_centro_comercial(1000)\n",
    "proyecto_hotel(10000)\n",
    "proyecto_centro_comercial(10000)\n",
    "proyecto_hotel(100000)\n",
    "proyecto_centro_comercial(100000)\n"
   ]
  },
  {
   "cell_type": "markdown",
   "metadata": {},
   "source": [
    "<font color='orange'>Ejercicio 4 Repartidor de Periodicos</font>"
   ]
  },
  {
   "cell_type": "code",
   "execution_count": null,
   "metadata": {},
   "outputs": [],
   "source": []
  }
 ],
 "metadata": {
  "kernelspec": {
   "display_name": "Python 3",
   "language": "python",
   "name": "python3"
  },
  "language_info": {
   "codemirror_mode": {
    "name": "ipython",
    "version": 3
   },
   "file_extension": ".py",
   "mimetype": "text/x-python",
   "name": "python",
   "nbconvert_exporter": "python",
   "pygments_lexer": "ipython3",
   "version": "3.7.1"
  }
 },
 "nbformat": 4,
 "nbformat_minor": 2
}
