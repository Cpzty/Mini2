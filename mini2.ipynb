{
 "cells": [
  {
   "cell_type": "markdown",
   "metadata": {},
   "source": [
    "<font color='orange'>Ejercicio 1 Función Acumulada Ponderada</font>"
   ]
  },
  {
   "cell_type": "code",
   "execution_count": null,
   "metadata": {},
   "outputs": [],
   "source": []
  },
  {
   "cell_type": "markdown",
   "metadata": {},
   "source": [
    "<font color='orange'>Ejercicio 2 Función Acumulada Ponderada(Programa)</font>"
   ]
  },
  {
   "cell_type": "code",
   "execution_count": null,
   "metadata": {},
   "outputs": [],
   "source": []
  },
  {
   "cell_type": "markdown",
   "metadata": {},
   "source": [
    "<font color='orange'>Ejercicio 3 Valor Presente Neto</font>"
   ]
  },
  {
   "cell_type": "code",
   "execution_count": 1,
   "metadata": {},
   "outputs": [],
   "source": [
    "#uniform\n",
    "from random import uniform, random\n",
    "#e\n",
    "from math import e, log\n"
   ]
  },
  {
   "cell_type": "code",
   "execution_count": 7,
   "metadata": {},
   "outputs": [
    {
     "name": "stdout",
     "output_type": "stream",
     "text": [
      "vpn proyecto hotel: 244.47001699316522 con 100 corridas\n",
      "vpn centro comercial: 9.984756687437198 con 100 corridas \n",
      "\n",
      "vpn proyecto hotel: 183.71953497327115 con 1000 corridas\n",
      "vpn centro comercial: 1.22841893144062 con 1000 corridas \n",
      "\n",
      "vpn proyecto hotel: 169.42741227644464 con 10000 corridas\n",
      "vpn centro comercial: -0.04214052776214551 con 10000 corridas \n",
      "\n",
      "vpn proyecto hotel: 168.25625433987506 con 100000 corridas\n",
      "vpn centro comercial: -0.002779834717608194 con 100000 corridas \n",
      "\n"
     ]
    }
   ],
   "source": [
    "def xlambda(lamda):\n",
    "    X = -(1/lamda) * log(uniform(0,1))\n",
    "    return X\n",
    "    \n",
    "\n",
    "def uniform_rand(mini,maxim):\n",
    "    rango = maxim - mini\n",
    "    eleccion = uniform(0,1)\n",
    "    return mini + rango * eleccion\n",
    "\n",
    "def normal_rand(mu, sigma):\n",
    "    while True:\n",
    "        y1 = xlambda(1)\n",
    "        y2 = xlambda(1)\n",
    "        if y2 - ((y1-1)**2)/2 > 0:\n",
    "            y = y2 - ((y1-1)**2)/2\n",
    "            U = uniform(0,1)\n",
    "            if U <= 0.5:\n",
    "                return mu + (sigma * y)\n",
    "            else:\n",
    "                return mu - (sigma * y)\n",
    "\n",
    "#Proyecto hotel\n",
    "def proyecto_hotel(runs):\n",
    "    vpn = 0\n",
    "    for i in range(runs):\n",
    "        t0 = -800\n",
    "        t1 = normal_rand(-800, 50)\n",
    "        t2 = normal_rand(-800, 100)\n",
    "        t3 = normal_rand(-700, 150)\n",
    "        t4 = normal_rand(300, 200)\n",
    "        t5 = normal_rand(400, 200)\n",
    "        t6 = normal_rand(500, 200)\n",
    "        t7 = uniform_rand(200, 8440)\n",
    "        vpn = vpn + t0 + (t1/1 + 0.1) + (t2/(1 + 0.1)**2) + (t3/(1 + 0.1)**3) + (t4/(1 + 0.1)**4) + (t5/(1 + 0.1)**5) + (t6/(1 + 0.1)**6) + (t7/(1 + 0.1)**7)\n",
    "    vpn = vpn/runs\n",
    "    print(\"vpn proyecto hotel: {0} con {1} corridas\".format(vpn, runs))\n",
    "    #return vpn\n",
    "\n",
    "def proyecto_centro_comercial(runs):\n",
    "    vpn = 0\n",
    "    for i in range(runs):\n",
    "        t0 = -900\n",
    "        t1 = normal_rand(-600, 50)\n",
    "        t2 = normal_rand(-200, 50)\n",
    "        t3 = normal_rand(-600, 100)\n",
    "        t4 = normal_rand(250, 150)\n",
    "        t5 = normal_rand(350, 150)\n",
    "        t6 = normal_rand(400, 150)\n",
    "        t7 = uniform_rand(1600, 6000)\n",
    "        vpn2 = t0 + (t1/1 + 0.1) + (t2/(1 + 0.1)**2) + (t3/(1 + 0.1)**3) + (t4/(1 + 0.1)**4) + (t5/(1 + 0.1)**5) + (t6/(1 + 0.1)**6) + (t7/(1 + 0.1)**7)\n",
    "    vpn2 = vpn2/runs\n",
    "    print(\"vpn centro comercial: {0} con {1} corridas \\n\".format(vpn2, runs))\n",
    "    #return vpn2 \n",
    "\n",
    "\n",
    "proyecto_hotel(100)\n",
    "proyecto_centro_comercial(100)\n",
    "proyecto_hotel(1000)\n",
    "proyecto_centro_comercial(1000)\n",
    "proyecto_hotel(10000)\n",
    "proyecto_centro_comercial(10000)\n",
    "proyecto_hotel(100000)\n",
    "proyecto_centro_comercial(100000)\n"
   ]
  },
  {
   "cell_type": "markdown",
   "metadata": {},
   "source": [
    "<font color='orange'>Ejercicio 4 Repartidor de Periodicos</font>"
   ]
  },
  {
   "cell_type": "code",
   "execution_count": null,
   "metadata": {},
   "outputs": [],
   "source": []
  }
 ],
 "metadata": {
  "kernelspec": {
   "display_name": "Python 3",
   "language": "python",
   "name": "python3"
  },
  "language_info": {
   "codemirror_mode": {
    "name": "ipython",
    "version": 3
   },
   "file_extension": ".py",
   "mimetype": "text/x-python",
   "name": "python",
   "nbconvert_exporter": "python",
   "pygments_lexer": "ipython3",
   "version": "3.7.1"
  }
 },
 "nbformat": 4,
 "nbformat_minor": 2
}
