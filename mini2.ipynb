{
 "cells": [
  {
   "cell_type": "markdown",
   "metadata": {},
   "source": [
    "<font color='orange'>Ejercicio 1 Función Acumulada Ponderada</font>"
   ]
  },
  {
   "cell_type": "markdown",
   "metadata": {},
   "source": [
    "Cada tramo o área de la variable aleatoria puede ser representada por la inversa de F(x), se debe tomar en cuenta que la integral se realiza supongamos el primer tramo de -inf a x para el segundo tramo se le suma el primero solo que la integral sería de -inf a la totalidad del primer tramo + la integral del segundo tramo del final del primer tramo hacia x. Ya la parte relevante es el generador o la inversa multiplicado por un pi"
   ]
  },
  {
   "cell_type": "markdown",
   "metadata": {},
   "source": [
    "<font color='orange'>Ejercicio 2 Función Acumulada Ponderada(Programa)</font>"
   ]
  },
  {
   "cell_type": "code",
   "execution_count": 69,
   "metadata": {},
   "outputs": [],
   "source": [
    "from random import random, uniform\n",
    "from math import sqrt, log\n",
    "import matplotlib.pyplot as plt\n",
    "import numpy as np\n",
    "from numpy import std"
   ]
  },
  {
   "cell_type": "code",
   "execution_count": 76,
   "metadata": {},
   "outputs": [
    {
     "name": "stdout",
     "output_type": "stream",
     "text": [
      "promedio: 0.5129561932895492 vs esperado: 0.5166666666666666\n",
      "promedio: 0.4940739307648041 vs esperado: 0.5166666666666666\n",
      "promedio: 0.47373266462857516 vs esperado: 0.5166666666666666\n",
      "promedio: 0.4833402246841437 vs esperado: 0.5166666666666666\n"
     ]
    },
    {
     "data": {
      "image/png": "[encoded data removed]",
      "text/plain": [
       "<Figure size 432x288 with 1 Axes>"
      ]
     },
     "metadata": {
      "needs_background": "light"
     },
     "output_type": "display_data"
    }
   ],
   "source": [
    "#F(x) = 1 - e ^ -x lambda = 1 X = ln(1 - random())\n",
    "def exponencial(runs):\n",
    "    records = [] \n",
    "    for i in range(runs):\n",
    "        X = log(1 - random())\n",
    "        records.append(X)\n",
    "    plt.hist(records)\n",
    "    dev = std(records)\n",
    "    variance_records = dev ** 2\n",
    "    print(\"the variance is: {0} in {1} runs\".format(variance_records,runs))\n",
    "\n",
    "#generador1\n",
    "def generador1():\n",
    "    # F(x) = x\n",
    "    X = -(1)*log(uniform(0,1))\n",
    "    return X\n",
    "\n",
    "def generador2():\n",
    "    #F(x) = 2x + 1\n",
    "    # x + 2x + 1 se le agrega la anterior\n",
    "    X = -(1/2)*log(uniform(0,1))\n",
    "    return X\n",
    "    \n",
    "def generador3():\n",
    "    #F(x) = 3x\n",
    "    # 6x + 1\n",
    "    X = -(1/3)*log(uniform(0,1))\n",
    "    return X\n",
    "\n",
    "#E[x] = 0.2 * 1 + 0.3 * 1/2 + 0.5 * 1/3  \n",
    "    \n",
    "def generar_variable_aleatoria(runs):\n",
    "    points_for_graph = []\n",
    "    for i in range(runs):\n",
    "        probs = [0.2,0.3,0.5]\n",
    "        point_loc = random()\n",
    "        if(point_loc < probs[0]):\n",
    "            #llamar al generador 1\n",
    "            points_for_graph.append(generador1())\n",
    "        elif(point_loc > probs[0] and point_loc <= probs[1]):\n",
    "            points_for_graph.append(generador2()) \n",
    "        else:\n",
    "            points_for_graph.append(generador3())\n",
    "    plt.hist(points_for_graph)\n",
    "    esperado = (0.2 * 1) + (0.3 * 1/2) + (0.5 * 1/3)\n",
    "    analisis = np.array(points_for_graph)\n",
    "    promedio = np.mean(analisis)\n",
    "    print(\"promedio: {} vs esperado: {}\".format(promedio, esperado))\n",
    "#exponencial(100)\n",
    "#exponencial(1000)\n",
    "#exponencial(10000)\n",
    "\n",
    "generar_variable_aleatoria(100)\n",
    "generar_variable_aleatoria(1000)\n",
    "generar_variable_aleatoria(10000)\n",
    "generar_variable_aleatoria(100000)"
   ]
  },
  {
   "cell_type": "markdown",
   "metadata": {},
   "source": [
    "<font color='orange'>Ejercicio 2 Final</font>"
   ]
  },
  {
   "cell_type": "code",
   "execution_count": 58,
   "metadata": {},
   "outputs": [
    {
     "name": "stdout",
     "output_type": "stream",
     "text": [
      "esperado: 0.55 vs media: 0.00023925677499609847\n"
     ]
    },
    {
     "data": {
      "image/png": "[encoded data removed]",
      "text/plain": [
       "<Figure size 432x288 with 1 Axes>"
      ]
     },
     "metadata": {
      "needs_background": "light"
     },
     "output_type": "display_data"
    }
   ],
   "source": [
    "#exponeciales\n",
    "#1: 1 - e^x de 0 a 1\n",
    "#2: 1 - e^1/2x \n",
    "#primera evaluada de 0 a 1 = -1.72\n",
    "#segunda evaluada de 1 a x = e^1/2x - 1.65\n",
    "\n",
    "def generar_aleatoria(probs, fds, prob_final, residuo_ultima, runs):\n",
    "    puntos_a_graficar = []\n",
    "    for i in range(runs):\n",
    "        probs_fds = np.multiply(probs, fds)\n",
    "        accumuladas = round(np.sum(probs_fds),2)\n",
    "        #variable aleatoria\n",
    "        fd_final = ((random() - accumuladas)/ prob_final) + residuo_ultima\n",
    "        puntos_a_graficar.append(fd_final)\n",
    "        #print(fd_final)\n",
    "    plt.hist(puntos_a_graficar)\n",
    "    #E[x] = 1/lambda\n",
    "    #E[x + y] = E[x] + E[y]\n",
    "    esperado = 0.1 * 1 + 0.9 * 0.5 \n",
    "    media = np.mean(puntos_a_graficar)\n",
    "    media = media/runs\n",
    "    print(\"esperado: {} vs media: {}\".format(esperado, media))\n",
    "generar_aleatoria(np.array([0.1]), np.array([-1.72]), 0.9, 1.65, 10000)\n"
   ]
  },
  {
   "cell_type": "markdown",
   "metadata": {},
   "source": [
    "<font color='orange'>Ejercicio 3 Valor Presente Neto</font>"
   ]
  },
  {
   "cell_type": "code",
   "execution_count": 1,
   "metadata": {},
   "outputs": [],
   "source": [
    "#uniform\n",
    "from random import uniform, random\n",
    "#e\n",
    "from math import e, log\n"
   ]
  },
  {
   "cell_type": "code",
   "execution_count": 12,
   "metadata": {},
   "outputs": [
    {
     "name": "stdout",
     "output_type": "stream",
     "text": [
      "vpn proyecto hotel: 352.8607101675228 con 100 corridas\n",
      "vpn proyecto centro comercial: 348.98640229058975 con 100 corridas\n",
      "vpn proyecto hotel: 137.16674651377025 con 1000 corridas\n",
      "vpn proyecto centro comercial: 481.9780551347425 con 1000 corridas\n",
      "vpn proyecto hotel: 228.49217133521287 con 10000 corridas\n",
      "vpn proyecto centro comercial: 499.33118662714605 con 10000 corridas\n",
      "vpn proyecto hotel: 240.68628347527755 con 100000 corridas\n",
      "vpn proyecto centro comercial: 499.336351613756 con 100000 corridas\n"
     ]
    }
   ],
   "source": [
    "def xlambda():\n",
    "    U = uniform(0,1)\n",
    "    X = -1 * log(U)\n",
    "    return X\n",
    "    \n",
    "\n",
    "def uniform_rand(mini,maxim):\n",
    "    rango = maxim - mini\n",
    "    eleccion = uniform(0,1)\n",
    "    return mini + rango * eleccion\n",
    "\n",
    "def normal_rand(mu, sigma):\n",
    "    while True:\n",
    "        y1 = xlambda()\n",
    "        y2 = xlambda()\n",
    "        if y2 - (((y1-1)**2)/2) > 0:\n",
    "            y = y2 - (((y1-1)**2)/2)\n",
    "            U = uniform(0,1)\n",
    "            if U <= 0.5:\n",
    "                return mu + (sigma * y)\n",
    "            else:\n",
    "                return mu - (sigma * y)\n",
    "\n",
    "#Proyecto hotel\n",
    "def proyecto_hotel(runs):\n",
    "    vpn = 0\n",
    "    for i in range(runs):\n",
    "        t0 = -800\n",
    "        t1 = normal_rand(-800, 50)\n",
    "        t2 = normal_rand(-800, 100)\n",
    "        t3 = normal_rand(-700, 150)\n",
    "        t4 = normal_rand(300, 200)\n",
    "        t5 = normal_rand(400, 200)\n",
    "        t6 = normal_rand(500, 200)\n",
    "        t7 = uniform_rand(200, 8440)\n",
    "        vpn = vpn + t0 + (t1/(1 + 0.1)) + (t2/((1.1)**2)) + (t3/((1.1)**3)) + (t4/((1.1)**4)) + (t5/((1.1)**5)) + (t6/((1.1)**6)) + (t7/((1.1)**7))\n",
    "    vpn = vpn/runs\n",
    "    print(\"vpn proyecto hotel: {0} con {1} corridas\".format(vpn, runs))\n",
    "    #return vpn\n",
    "\n",
    "def proyecto_centro_comercial(runs):\n",
    "    vpn = 0\n",
    "    for i in range(runs):\n",
    "        t0 = -900\n",
    "        t1 = normal_rand(-600, 50)\n",
    "        t2 = normal_rand(-200, 100)\n",
    "        t3 = normal_rand(-600, 100)\n",
    "        t4 = normal_rand(250, 150)\n",
    "        t5 = normal_rand(350, 150)\n",
    "        t6 = normal_rand(400, 150)\n",
    "        t7 = uniform_rand(1600, 6000)\n",
    "        vpn = vpn + t0 + (t1/(1 + 0.1)) + (t2/((1.1)**2)) + (t3/((1.1)**3)) + (t4/((1.1)**4)) + (t5/((1.1)**5)) + (t6/((1.1)**6)) + (t7/((1.1)**7))\n",
    "    vpn = vpn/runs\n",
    "    print(\"vpn proyecto centro comercial: {0} con {1} corridas\".format(vpn, runs))\n",
    "    #return vpn\n",
    "\n",
    "\n",
    "proyecto_hotel(100)\n",
    "proyecto_centro_comercial(100)\n",
    "proyecto_hotel(1000)\n",
    "proyecto_centro_comercial(1000)\n",
    "proyecto_hotel(10000)\n",
    "proyecto_centro_comercial(10000)\n",
    "proyecto_hotel(100000)\n",
    "proyecto_centro_comercial(100000)\n"
   ]
  },
  {
   "cell_type": "markdown",
   "metadata": {},
   "source": [
    "<font color='orange'>Ejercicio 4 Repartidor de Periodicos</font>"
   ]
  },
  {
   "cell_type": "code",
   "execution_count": 8,
   "metadata": {},
   "outputs": [
    {
     "name": "stdout",
     "output_type": "stream",
     "text": [
      "9 periodicos\n",
      "1 mes:   279.0\n",
      "1 año:   3285.0\n",
      "10 años: 32850.0\n",
      "\n",
      "\n",
      "10 periodicos\n",
      "1 mes:   296.0\n",
      "1 año:   3432.0\n",
      "10 años: 34324.0\n",
      "\n",
      "\n",
      "11 periodicos\n",
      "1 mes:   275.0\n",
      "1 año:   3289.0\n",
      "10 años: 32922.0\n"
     ]
    }
   ],
   "source": [
    "import random\n",
    "\n",
    "def simulacion(periodicos, dias):\n",
    "    capital = 0\n",
    "\n",
    "    for i in range(dias):\n",
    "        randy = random.random()\n",
    "        capital += costo * periodicos\n",
    "\n",
    "        if randy < 0.30 or periodicos < 10:\n",
    "            capital += precio * 9\n",
    "            capital += devolucion * (periodicos - 9)\n",
    "\n",
    "        elif randy < 0.70 or periodicos < 11:\n",
    "            capital += precio * 10\n",
    "            capital += devolucion * (periodicos - 10)\n",
    "\n",
    "        else:\n",
    "            capital += precio * 11\n",
    "\n",
    "    return capital\n",
    "\n",
    "costo = -1.50\n",
    "precio = 2.50\n",
    "devolucion = 0.50\n",
    "\n",
    "print(\"9 periodicos\")\n",
    "print(\"1 mes:   \" + str(simulacion(9,31)))\n",
    "print(\"1 año:   \" + str(simulacion(9,365)))\n",
    "print(\"10 años: \" + str(simulacion(9,3650)))\n",
    "print(\"\\n\")\n",
    "\n",
    "print(\"10 periodicos\")\n",
    "print(\"1 mes:   \" + str(simulacion(10,31)))\n",
    "print(\"1 año:   \" + str(simulacion(10,365)))\n",
    "print(\"10 años: \" + str(simulacion(10,3650)))\n",
    "print(\"\\n\")\n",
    "\n",
    "print(\"11 periodicos\")\n",
    "print(\"1 mes:   \" + str(simulacion(11,31)))\n",
    "print(\"1 año:   \" + str(simulacion(11,365)))\n",
    "print(\"10 años: \" + str(simulacion(11,3650)))"
   ]
  },
  {
   "cell_type": "markdown",
   "metadata": {},
   "source": [
    "Se recomienda que compre 10 periodicos diarios."
   ]
  }
 ],
 "metadata": {
  "kernelspec": {
   "display_name": "Python 3",
   "language": "python",
   "name": "python3"
  },
  "language_info": {
   "codemirror_mode": {
    "name": "ipython",
    "version": 3
   },
   "file_extension": ".py",
   "mimetype": "text/x-python",
   "name": "python",
   "nbconvert_exporter": "python",
   "pygments_lexer": "ipython3",
   "version": "3.7.1"
  }
 },
 "nbformat": 4,
 "nbformat_minor": 2
}
